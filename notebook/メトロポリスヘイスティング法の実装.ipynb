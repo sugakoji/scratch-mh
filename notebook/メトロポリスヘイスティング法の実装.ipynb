{
 "cells": [
  {
   "cell_type": "code",
   "execution_count": 1,
   "metadata": {},
   "outputs": [],
   "source": [
    "import numpy as np\n",
    "import matplotlib.pyplot as plt\n",
    "\n",
    "from scipy.stats import norm"
   ]
  },
  {
   "cell_type": "markdown",
   "metadata": {},
   "source": [
    "# 実装\n",
    "\n",
    "https://qiita.com/ctgk/items/794ae32e9f9f154435ee 参照。\n",
    "\n",
    "\n",
    "PRML：　分散パラメタ関係 \n",
    "\n",
    "-> 分散が小さいと系列が相関を持ってしまう。\n",
    "\n",
    "-> 分散が大きいと棄却する確率が高くなる。\n"
   ]
  },
  {
   "cell_type": "code",
   "execution_count": 26,
   "metadata": {},
   "outputs": [],
   "source": [
    "class MetroPolis():\n",
    "    \n",
    "    def __init__(self, random_var = 2,thin= 10):\n",
    "        \n",
    "        # 正規乱数の分散\n",
    "        self.random_var = random_var\n",
    "        \n",
    "        # まびく間隔\n",
    "        self.thin = thin\n",
    "        \n",
    "        # 初期値\n",
    "        self.param = 10\n",
    "    \n",
    "        \n",
    "    def __call__(self, func, chain = 3, iter_len = 20000, burn_in = 100):      \n",
    "        \n",
    "        self.result  = []\n",
    "        for _c in range(0, chain + 1):\n",
    "            self.result.append(self._sampling(func,iter_len, burn_in))\n",
    "            \n",
    "        return np.array(self.result)\n",
    "            \n",
    "    \n",
    "    \n",
    "    def _sampling(self,func,iter_len,burn_in):\n",
    "        samples = []\n",
    "        for i in range(iter_len):\n",
    "            prob_dense = func(self.param)\n",
    "            new_param = self.param +np.random.normal(loc= 0,scale=self.random_var)\n",
    "            new_prob_dense = func(new_param)\n",
    "            accept_prob = new_prob_dense/prob_dense\n",
    "            if accept_prob > np.random.uniform(low=0.0, high=1.0):\n",
    "                self.param = new_param\n",
    "            if i%self.thin ==1:\n",
    "                samples.append(self.param)\n",
    "\n",
    "        return samples[burn_in:]\n",
    "    def get_r_hat(self):\n",
    "        result = np.array(self.result)\n",
    "\n",
    "        # 全体平均\n",
    "        overall_ave = np.mean(result.flatten())\n",
    "        # 各列の平均\n",
    "        np.mean(result, axis = 1)\n",
    "        # Nの数\n",
    "        N = np.array([i.shape[0] for i in result])\n",
    "        # Mの数\n",
    "        M = result.shape[0]\n",
    "        # Bの計算\n",
    "        B=  np.sum(N *(overall_ave - np.mean(result, axis = 1))**2)* 1/(M-1) \n",
    "        # サンプル内分散\n",
    "        s = np.sum((result-np.mean(result.reshape(1,-1), axis = 1))**2, axis = 1) * 1/(N-1)\n",
    "        # Wの計算\n",
    "        W= 1/M * np.sum(s)\n",
    "        n = N[0]\n",
    "        var_hat = (n-1)/n * W + 1/n * B\n",
    "\n",
    "        return (var_hat/W)**0.5\n",
    "\n",
    "\n",
    "\n",
    "    "
   ]
  },
  {
   "cell_type": "markdown",
   "metadata": {},
   "source": [
    "# 既知の分布からのサンプリング"
   ]
  },
  {
   "cell_type": "code",
   "execution_count": 27,
   "metadata": {},
   "outputs": [],
   "source": [
    "mus = 5\n",
    "sigmas = 1\n",
    "\n",
    "def pgauss(x):\n",
    "    return norm.pdf(x=x, loc=mus, scale=sigmas)\n"
   ]
  },
  {
   "cell_type": "code",
   "execution_count": 28,
   "metadata": {},
   "outputs": [
    {
     "data": {
      "text/plain": [
       "0.3989422804014327"
      ]
     },
     "execution_count": 28,
     "metadata": {},
     "output_type": "execute_result"
    }
   ],
   "source": [
    "pgauss(5)"
   ]
  },
  {
   "cell_type": "code",
   "execution_count": 29,
   "metadata": {},
   "outputs": [],
   "source": [
    "mh_sampler = MetroPolis()\n",
    "\n",
    "array = mh_sampler(pgauss)"
   ]
  },
  {
   "cell_type": "markdown",
   "metadata": {},
   "source": [
    "# Rhatの計算"
   ]
  },
  {
   "cell_type": "code",
   "execution_count": 30,
   "metadata": {},
   "outputs": [
    {
     "data": {
      "text/plain": [
       "0.99978172778233199"
      ]
     },
     "execution_count": 30,
     "metadata": {},
     "output_type": "execute_result"
    }
   ],
   "source": [
    "result = array\n",
    "\n",
    "# 全体平均\n",
    "overall_ave = np.mean(result.flatten())\n",
    "# 各列の平均\n",
    "np.mean(result, axis = 1)\n",
    "# Nの数\n",
    "N = np.array([i.shape[0] for i in result])\n",
    "# Mの数\n",
    "M = result.shape[0]\n",
    "# Bの計算\n",
    "B=  np.sum(N *(overall_ave - np.mean(result, axis = 1))**2)* 1/(M-1) \n",
    "# サンプル内分散\n",
    "s = np.sum((result-np.mean(result.reshape(1,-1), axis = 1))**2, axis = 1) * 1/(N-1)\n",
    "# Wの計算\n",
    "W= 1/M * np.sum(s)\n",
    "n = N[0]\n",
    "var_hat = (n-1)/n * W + 1/n * B\n",
    "\n",
    "(var_hat/W)**0.5"
   ]
  },
  {
   "cell_type": "code",
   "execution_count": 31,
   "metadata": {},
   "outputs": [
    {
     "data": {
      "text/plain": [
       "0.44438136424849656"
      ]
     },
     "execution_count": 31,
     "metadata": {},
     "output_type": "execute_result"
    }
   ],
   "source": [
    "mh_sampler.get_r_hat()"
   ]
  },
  {
   "cell_type": "code",
   "execution_count": null,
   "metadata": {},
   "outputs": [],
   "source": []
  },
  {
   "cell_type": "code",
   "execution_count": null,
   "metadata": {},
   "outputs": [],
   "source": []
  },
  {
   "cell_type": "code",
   "execution_count": null,
   "metadata": {},
   "outputs": [],
   "source": []
  },
  {
   "cell_type": "markdown",
   "metadata": {},
   "source": [
    "# 結果の可視化"
   ]
  },
  {
   "cell_type": "code",
   "execution_count": 24,
   "metadata": {},
   "outputs": [
    {
     "data": {
      "image/png": "[encoded data removed]",
      "text/plain": [
       "<matplotlib.figure.Figure at 0x1a14b47dd8>"
      ]
     },
     "metadata": {
      "needs_background": "light"
     },
     "output_type": "display_data"
    }
   ],
   "source": [
    "fig, ax = plt.subplots()\n",
    "for s in array:\n",
    "    ax.hist(s,alpha=0.5,bins = 100)"
   ]
  },
  {
   "cell_type": "code",
   "execution_count": 25,
   "metadata": {},
   "outputs": [
    {
     "data": {
      "image/png": "[encoded data removed]",
      "text/plain": [
       "<matplotlib.figure.Figure at 0x1a15149c88>"
      ]
     },
     "metadata": {
      "needs_background": "light"
     },
     "output_type": "display_data"
    }
   ],
   "source": [
    "fig, ax = plt.subplots()\n",
    "for s in array:\n",
    "    ax.plot(s, alpha = 0.5)\n"
   ]
  },
  {
   "cell_type": "code",
   "execution_count": null,
   "metadata": {},
   "outputs": [],
   "source": []
  },
  {
   "cell_type": "code",
   "execution_count": null,
   "metadata": {},
   "outputs": [],
   "source": []
  },
  {
   "cell_type": "code",
   "execution_count": null,
   "metadata": {},
   "outputs": [],
   "source": []
  },
  {
   "cell_type": "code",
   "execution_count": null,
   "metadata": {},
   "outputs": [],
   "source": []
  }
 ],
 "metadata": {
  "kernelspec": {
   "display_name": "Python 3",
   "language": "python",
   "name": "python3"
  },
  "language_info": {
   "codemirror_mode": {
    "name": "ipython",
    "version": 3
   },
   "file_extension": ".py",
   "mimetype": "text/x-python",
   "name": "python",
   "nbconvert_exporter": "python",
   "pygments_lexer": "ipython3",
   "version": "3.6.8"
  },
  "toc": {
   "colors": {
    "hover_highlight": "#DAA520",
    "navigate_num": "#000000",
    "navigate_text": "#333333",
    "running_highlight": "#FF0000",
    "selected_highlight": "#FFD700",
    "sidebar_border": "#EEEEEE",
    "wrapper_background": "#FFFFFF"
   },
   "moveMenuLeft": true,
   "nav_menu": {
    "height": "47.5347px",
    "width": "251.979px"
   },
   "navigate_menu": true,
   "number_sections": true,
   "sideBar": true,
   "threshold": 4,
   "toc_cell": false,
   "toc_section_display": "block",
   "toc_window_display": false,
   "widenNotebook": false
  }
 },
 "nbformat": 4,
 "nbformat_minor": 2
}
